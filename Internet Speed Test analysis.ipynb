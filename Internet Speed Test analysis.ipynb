{
 "cells": [
  {
   "cell_type": "code",
   "execution_count": null,
   "metadata": {},
   "outputs": [],
   "source": [
    "import pandas as pd\n",
    "import plotly\n",
    "import plotly.plotly as py\n",
    "import plotly.graph_objs as go\n",
    "from datetime import datetime\n",
    "from dateutil import tz"
   ]
  },
  {
   "cell_type": "code",
   "execution_count": null,
   "metadata": {},
   "outputs": [],
   "source": [
    "def get_sql_connection():\n",
    "    '''imports the necessary odbc package and returns a connection to the db'''\n",
    "    import platform\n",
    "    os = platform.system()\n",
    "    if os == 'Windows':\n",
    "        import pypyodbc\n",
    "        return pypyodbc.connect('<REDACTED connection string; see string from app.config>')\n",
    "    elif os == 'Darwin':\n",
    "        import pyodbc\n",
    "        return pyodbc.connect(driver='/usr/local/lib/libtdsodbc.so', TDS_Version='8.0', server='<REDACTED host>',port=1433, database='InternetSpeedLogger',uid='<USERNAME>',pwd='<PASSWORD>')\n",
    "    else:\n",
    "        raise ValueError('Unsupported OS detected (%s)' % os)"
   ]
  },
  {
   "cell_type": "code",
   "execution_count": null,
   "metadata": {},
   "outputs": [],
   "source": [
    "connection = get_sql_connection()\n",
    "cmd = \"select* from internetspeedlogger.dbo.results\"\n",
    "data = pd.read_sql(cmd,connection)"
   ]
  },
  {
   "cell_type": "code",
   "execution_count": null,
   "metadata": {},
   "outputs": [],
   "source": [
    "data['dlmbit'] = data.Download/1000000\n",
    "data.dlmbit.describe()"
   ]
  },
  {
   "cell_type": "code",
   "execution_count": null,
   "metadata": {},
   "outputs": [],
   "source": [
    "data['localtime'] = pd.DatetimeIndex(pd.to_datetime(data['Timestamp'])).tz_localize('UTC').tz_convert('US/Pacific')\n"
   ]
  },
  {
   "cell_type": "code",
   "execution_count": null,
   "metadata": {},
   "outputs": [],
   "source": [
    "data['time'] = data['localtime'].dt.strftime('%H:%M')"
   ]
  },
  {
   "cell_type": "code",
   "execution_count": null,
   "metadata": {},
   "outputs": [],
   "source": [
    "data = data.sort_values('time')"
   ]
  },
  {
   "cell_type": "code",
   "execution_count": null,
   "metadata": {},
   "outputs": [],
   "source": [
    "trace = go.Scatter(\n",
    "    x=data['time'],\n",
    "    y=data['dlmbit'],\n",
    "    mode = 'markers'\n",
    ")\n",
    "\n",
    "pltData = [trace]\n",
    "\n",
    "fig = go.Figure(data=pltData)\n",
    "plotly.offline.plot(fig)"
   ]
  }
 ],
 "metadata": {
  "kernelspec": {
   "display_name": "Python 3",
   "language": "python",
   "name": "python3"
  },
  "language_info": {
   "codemirror_mode": {
    "name": "ipython",
    "version": 3
   },
   "file_extension": ".py",
   "mimetype": "text/x-python",
   "name": "python",
   "nbconvert_exporter": "python",
   "pygments_lexer": "ipython3",
   "version": "3.6.4"
  }
 },
 "nbformat": 4,
 "nbformat_minor": 2
}
